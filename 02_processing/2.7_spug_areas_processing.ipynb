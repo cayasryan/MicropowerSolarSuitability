{
 "cells": [
  {
   "cell_type": "code",
   "execution_count": 1,
   "id": "2385d7cb",
   "metadata": {},
   "outputs": [
    {
     "data": {
      "application/vnd.microsoft.datawrangler.viewer.v0+json": {
       "columns": [
        {
         "name": "index",
         "rawType": "int64",
         "type": "integer"
        },
        {
         "name": "Unnamed: 0",
         "rawType": "object",
         "type": "unknown"
        },
        {
         "name": "Location",
         "rawType": "object",
         "type": "unknown"
        },
        {
         "name": "Link",
         "rawType": "object",
         "type": "unknown"
        },
        {
         "name": "Coordinates",
         "rawType": "object",
         "type": "unknown"
        }
       ],
       "conversionMethod": "pd.DataFrame",
       "ref": "631740ef-7508-439d-9faa-6d5607293188",
       "rows": [
        [
         "0",
         "Luzon - Bicol Area",
         "Brgy. Atulayan, Sagñay, Camarines Sur",
         "SPUG Luzon – Sagñay DPP | National Power Corporation",
         "13.585152106546404, 123.56559731921023"
        ],
        [
         "1",
         "Luzon - Bicol Area",
         "Brgy. Sibacungan, Bato, Catanduanes",
         "SPUG Luzon – Balongbong HPP | National Power Corporation",
         "13.624475334780481, 124.2968002008004"
        ],
        [
         "2",
         "Luzon - Bicol Area",
         "Brgy. Iraya, Batan, Rapu-rapu, Albay",
         "SPUG Luzon – Batan DPP | National Power Corporation",
         "13.230231392352515, 124.04346584944794"
        ],
        [
         "3",
         "Luzon - Bicol Area",
         "Brgy. Sitio, Sugod, Banocboc, Vinzons, Camarines Norte",
         "SPUG Luzon – Calaguas DPP | National Power Corporation",
         "14.811206318030056, 124.23353822108753"
        ],
        [
         "4",
         "Luzon - Bicol Area",
         "Chico Island, Cawayan, Masbate",
         "SPUG Luzon – Chico DPP | National Power Corporation",
         "11.91013566534593, 123.60870948174119"
        ],
        [
         "5",
         "Luzon - Bicol Area",
         "Sitio Kilapad, Brgy. Poblacion II, Claveria, Masbate",
         "SPUG Luzon – Claveria DPP | National Power Corporation",
         "12.89506682022814, 123.22679952006476"
        ],
        [
         "6",
         "Luzon - Bicol Area",
         "Brgy. Dancalan, San Pascual, Burias Island, Masbate",
         "SPUG Luzon – Dancalan DPP | National Power Corporation",
         "13.0783726,122.7359941"
        ],
        [
         "7",
         "Luzon - Bicol Area",
         "Gilotongan, Cawayan, Masbate",
         "SPUG Luzon – Gilotongan DPP | National Power Corporation",
         null
        ],
        [
         "8",
         "Luzon - Bicol Area",
         "Guin-Awayan Island, Placer, Masbate",
         "SPUG Luzon – Guin-Awayan DPP | National Power Corporation",
         null
        ],
        [
         "9",
         "Luzon - Bicol Area",
         "Brgy. Mababang Baybay, Claveria, Burias Island, Masbate",
         "SPUG Luzon – Mababang Baybay DPP | National Power Corporation",
         null
        ],
        [
         "10",
         "Luzon - Bicol Area",
         "Brgy. Malaking Ilog, San Pascual, Burias Island Masbate",
         "SPUG Luzon – Malaking Ilog DPP | National Power Corporation",
         null
        ],
        [
         "11",
         "Luzon - Bicol Area",
         "Marinawa, Bato, Catanduanes",
         "SPUG Luzon – Marinawa DPP | National Power Corporation",
         "13.595609257664162, 124.26572359906191"
        ],
        [
         "12",
         "Luzon - Bicol Area",
         "Nabuctot, Masbate",
         "SPUG Luzon – Nabuctot DPP | National Power Corporation",
         "11.856706446651126, 123.76884460259981"
        ],
        [
         "13",
         "Luzon - Bicol Area",
         "Sitio Bantigue, Naro Island, Masbate",
         "SPUG Luzon – Naro DPP | National Power Corporation",
         "11.89941966606132, 123.66550200491935"
        ],
        [
         "14",
         "Luzon - Bicol Area",
         "Brgy. Osmeña, Claveria, Burias Island, Masbate",
         "SPUG Luzon – Osmeña DPP | National Power Corporation",
         "12.738553123779312, 123.3275450909327"
        ],
        [
         "15",
         "Luzon - Bicol Area",
         "Brgy. Toytoy, Caramoran, Catanduanes",
         "SPUG Luzon – Palumbanes DPP | National Power Corporation",
         "14.022102299273042, 124.0470396462127"
        ],
        [
         "16",
         "Luzon - Bicol Area",
         "Brgy. Peña, Cawayan, Masbate",
         "SPUG Luzon – Peña DPP | National Power Corporation",
         "12.247896740925137, 124.69496401453031"
        ],
        [
         "17",
         "Luzon - Bicol Area",
         "Brgy. Peñafrancia, Claveria, Burias Island, Masbate",
         "SPUG Luzon – Peñafrancia DPP | National Power Corporation",
         null
        ],
        [
         "18",
         "Luzon - Bicol Area",
         "Brgy. Quezon, Claveria, Burias Island, Masbate",
         "SPUG Luzon – Quezon DPP | National Power Corporation",
         null
        ],
        [
         "19",
         "Luzon - Bicol Area",
         "Poblacion, Rapu-Rapu Island, Albay",
         "SPUG Luzon – Rapu Rapu DPP | National Power Corporation",
         "13.297897689223976, 124.91469058283641"
        ],
        [
         "20",
         "Luzon - Bicol Area",
         "Brgy. Terraplin, San Pascual, Masbate",
         "SPUG Luzon – San Pascual DPP | National Power Corporation",
         "13.13138972527123, 122.97830631050373"
        ],
        [
         "21",
         "Luzon - Bicol Area",
         "Moyot St., Brgy. Poblacion, San Jacinto, Masbate",
         "SPUG Luzon – Ticao DPP | National Power Corporation",
         "12.566901730691681, 123.74788631358405"
        ],
        [
         "22",
         "Luzon - Bicol Area",
         "San Isidro, Viga, Catanduanes",
         "SPUG Luzon – Viga DPP | National Power Corporation",
         "13.865267408371786, 124.30518853749925"
        ],
        [
         "23",
         "Luzon – Marinduque/Quezon/North Luzon Area",
         "Brgy. Balatubat, Camuiguin Island, Calayan, Cagayan",
         "SPUG Luzon – Balatubat DPP | National Power Corporation",
         "18.902772826254076, 121.87668257550212"
        ],
        [
         "24",
         "Luzon – Marinduque/Quezon/North Luzon Area",
         "National Road, Disung Brgy. Kaychanarianan, Basco, Batanes",
         "SPUG Luzon – Basco DPP | National Power Corporation",
         "20.442388657986108, 121.96669578532911"
        ],
        [
         "25",
         "Luzon – Marinduque/Quezon/North Luzon Area",
         "Brgy. Bantad, Boac, Marinduque",
         "SPUG Luzon – Boac DPP | National Power Corporation",
         "13.456217400461457, 121.84894387550216"
        ],
        [
         "26",
         "Luzon – Marinduque/Quezon/North Luzon Area",
         "Sitio Cacutayan, Brgy. Dadao, Calayan, Province of Cagayan",
         "SPUG Luzon – Calayan DPP | National Power Corporation",
         "18.98870273763172, 121.88529351783147"
        ],
        [
         "27",
         "Luzon – Marinduque/Quezon/North Luzon Area",
         "Brgy. Esteves, Casiguran, Aurora",
         "SPUG Luzon – Casiguran DPP | National Power Corporation",
         null
        ],
        [
         "28",
         "Luzon – Marinduque/Quezon/North Luzon Area",
         "Brgy. San Rafael, Itbayat, Batanes",
         "SPUG Luzon – Itbayat DPP | National Power Corporation",
         null
        ],
        [
         "29",
         "Luzon – Marinduque/Quezon/North Luzon Area",
         "Brgy. Talisay, Jomalig, Quezon Province",
         "SPUG Luzon – Jomalig DPP | National Power Corporation",
         "14.700453475765077, 122.32778853686766"
        ],
        [
         "30",
         "Luzon – Marinduque/Quezon/North Luzon Area",
         "Hillside, Poblacion, Kabugao, Apayao",
         "SPUG Luzon – Kabugao DPP | National Power Corporation",
         "18.021992033209024, 121.18553631967889"
        ],
        [
         "31",
         "Luzon – Marinduque/Quezon/North Luzon Area",
         "Brgy. Malasin, Maconacon, Isabela",
         "SPUG Luzon – Maconacon DPP | National Power Corporation",
         "17.385106074252594, 122.2361200043375"
        ],
        [
         "32",
         "Luzon – Marinduque/Quezon/North Luzon Area",
         "Brgy. Minabel, Camuiguin Island, Calayan, Cagayan",
         "SPUG Luzon – Minabel DPP | National Power Corporation",
         "18.98888111504031, 121.885208124406"
        ],
        [
         "33",
         "Luzon – Marinduque/Quezon/North Luzon Area",
         "Brgy. Mongpong, Sta. Cruz, Marinduque",
         "SPUG Luzon – Mongpong DPP | National Power Corporation",
         null
        ],
        [
         "34",
         "Luzon – Marinduque/Quezon/North Luzon Area",
         "Brgy. Culasi, Palanan, Isabela",
         "SPUG Luzon – Palanan DPP | National Power Corporation",
         "17.12002259570624, 122.43724606877842"
        ],
        [
         "35",
         "Luzon – Marinduque/Quezon/North Luzon Area",
         "Poblacion, Patnanungan, Quezon",
         "SPUG Luzon – Patnanungan DPP | National Power Corporation",
         "14.75703441165572, 122.21947483332"
        ],
        [
         "36",
         "Luzon – Marinduque/Quezon/North Luzon Area",
         "Brgy. Balanacan, Mogpog, Marinduque",
         "SPUG Luzon – Power Barge 120 DPP | National Power Corporation",
         "13.53358066504782, 121.8656589687784"
        ],
        [
         "37",
         "Luzon – Marinduque/Quezon/North Luzon Area",
         "National Road Sitio Mahat, Brgy. Savidug, Sabtang, Batanes",
         "SPUG Luzon – Sabtang DPP | National Power Corporation",
         "20.320700652912016, 121.88268219152636"
        ],
        [
         "38",
         "Luzon – Marinduque/Quezon/North Luzon Area",
         "Brgy. Cagpo, Torrijos, Marinduque",
         "SPUG Luzon – Torrijos DPP | National Power Corporation",
         "13.340041297510897, 122.10964918657943"
        ],
        [
         "39",
         "Luzon – Mindoro/Romblon Area",
         "Brgy. Hambian, Banton, Romblon",
         "SPUG Luzon – Banton DPP | National Power Corporation",
         "12.938824931111673, 122.09687249084351"
        ],
        [
         "40",
         "Luzon – Mindoro/Romblon Area",
         "Cabra Island, Lubang, Occidental Mindoro",
         "SPUG Luzon – Cabra DPP | National Power Corporation",
         "13.825111858509873, 120.17812757639278"
        ],
        [
         "41",
         "Luzon – Mindoro/Romblon Area",
         "Poblacion, Concepcion, Romblon",
         "SPUG Luzon – Concepcion DPP | National Power Corporation",
         null
        ],
        [
         "42",
         "Luzon – Mindoro/Romblon Area",
         "San Agustin, Corcuera, Romblon",
         "SPUG Luzon – Corcuera DPP | National Power Corporation",
         "12.783783300636044, 122.0556538982332"
        ],
        [
         "43",
         "Luzon – Mindoro/Romblon Area",
         "Brgy. Mailig, Lubang, Occidental Mindoro",
         "SPUG Luzon – Lubang DPP | National Power Corporation",
         "13.822772817124672, 120.16601339473505"
        ],
        [
         "44",
         "Luzon – Mindoro/Romblon Area",
         "Brgy. Bagacay, Romblon, Romblon",
         "SPUG Luzon – Power Barge 106 | National Power Corporation",
         null
        ],
        [
         "45",
         "Luzon – Mindoro/Romblon Area",
         "Capaclan, Romblon, Romblon",
         "SPUG Luzon – Romblon DPP | National Power Corporation",
         "12.578384297833912, 122.27262677713836"
        ],
        [
         "46",
         "Luzon – Mindoro/Romblon Area",
         "Central, San Jose, Romblon",
         "SPUG Luzon – San Jose DPP | National Power Corporation",
         "12.064274745286928, 121.96086868984646"
        ],
        [
         "47",
         "Luzon – Mindoro/Romblon Area",
         "Brgy. Poblacion, San Fernando, Romblon",
         "SPUG Luzon – Sibuyan DPP | National Power Corporation",
         "12.304466826669136, 122.59757349271439"
        ],
        [
         "48",
         "Luzon – Mindoro/Romblon Area",
         "Brgy. Gamao, Tingloy, Batangas",
         "SPUG Luzon – Tingloy DPP | National Power Corporation",
         "13.652900854895398, 120.9366933828918"
        ],
        [
         "49",
         "Luzon – Palawan Area",
         "Brgy. Bancal, Agutaya, Palawan",
         "SPUG Luzon – Agutaya DPP | National Power Corporation",
         null
        ]
       ],
       "shape": {
        "columns": 4,
        "rows": 168
       }
      },
      "text/html": [
       "<div>\n",
       "<style scoped>\n",
       "    .dataframe tbody tr th:only-of-type {\n",
       "        vertical-align: middle;\n",
       "    }\n",
       "\n",
       "    .dataframe tbody tr th {\n",
       "        vertical-align: top;\n",
       "    }\n",
       "\n",
       "    .dataframe thead th {\n",
       "        text-align: right;\n",
       "    }\n",
       "</style>\n",
       "<table border=\"1\" class=\"dataframe\">\n",
       "  <thead>\n",
       "    <tr style=\"text-align: right;\">\n",
       "      <th></th>\n",
       "      <th>Unnamed: 0</th>\n",
       "      <th>Location</th>\n",
       "      <th>Link</th>\n",
       "      <th>Coordinates</th>\n",
       "    </tr>\n",
       "  </thead>\n",
       "  <tbody>\n",
       "    <tr>\n",
       "      <th>0</th>\n",
       "      <td>Luzon - Bicol Area</td>\n",
       "      <td>Brgy. Atulayan, Sagñay, Camarines Sur</td>\n",
       "      <td>SPUG Luzon – Sagñay DPP | National Power Corpo...</td>\n",
       "      <td>13.585152106546404, 123.56559731921023</td>\n",
       "    </tr>\n",
       "    <tr>\n",
       "      <th>1</th>\n",
       "      <td>Luzon - Bicol Area</td>\n",
       "      <td>Brgy. Sibacungan, Bato, Catanduanes</td>\n",
       "      <td>SPUG Luzon – Balongbong HPP | National Power C...</td>\n",
       "      <td>13.624475334780481, 124.2968002008004</td>\n",
       "    </tr>\n",
       "    <tr>\n",
       "      <th>2</th>\n",
       "      <td>Luzon - Bicol Area</td>\n",
       "      <td>Brgy. Iraya, Batan, Rapu-rapu, Albay</td>\n",
       "      <td>SPUG Luzon – Batan DPP | National Power Corpor...</td>\n",
       "      <td>13.230231392352515, 124.04346584944794</td>\n",
       "    </tr>\n",
       "    <tr>\n",
       "      <th>3</th>\n",
       "      <td>Luzon - Bicol Area</td>\n",
       "      <td>Brgy. Sitio, Sugod, Banocboc, Vinzons, Camarin...</td>\n",
       "      <td>SPUG Luzon – Calaguas DPP | National Power Cor...</td>\n",
       "      <td>14.811206318030056, 124.23353822108753</td>\n",
       "    </tr>\n",
       "    <tr>\n",
       "      <th>4</th>\n",
       "      <td>Luzon - Bicol Area</td>\n",
       "      <td>Chico Island, Cawayan, Masbate</td>\n",
       "      <td>SPUG Luzon – Chico DPP | National Power Corpor...</td>\n",
       "      <td>11.91013566534593, 123.60870948174119</td>\n",
       "    </tr>\n",
       "    <tr>\n",
       "      <th>...</th>\n",
       "      <td>...</td>\n",
       "      <td>...</td>\n",
       "      <td>...</td>\n",
       "      <td>...</td>\n",
       "    </tr>\n",
       "    <tr>\n",
       "      <th>163</th>\n",
       "      <td>Mindanao – Western Mindanao Area</td>\n",
       "      <td>Tapiantana Island, Lanawan, Tabuan-Lasa, Basilan</td>\n",
       "      <td>SPUG Mindanao – Tapiantana DPP | National Powe...</td>\n",
       "      <td>NaN</td>\n",
       "    </tr>\n",
       "    <tr>\n",
       "      <th>164</th>\n",
       "      <td>Mindanao – Western Mindanao Area</td>\n",
       "      <td>Brgy. Tigtabon, Tigtabon Island, Zamboanga Cit...</td>\n",
       "      <td>SPUG Mindanao – Tigtabon DPP | National Power ...</td>\n",
       "      <td>NaN</td>\n",
       "    </tr>\n",
       "    <tr>\n",
       "      <th>165</th>\n",
       "      <td>Mindanao – Western Mindanao Area</td>\n",
       "      <td>Brgy. Tumalutab, Tumalutab Island, Zamboanga C...</td>\n",
       "      <td>SPUG Mindanao – Tumalutab DPP | National Power...</td>\n",
       "      <td>6.985829848966435, 122.37124283441949</td>\n",
       "    </tr>\n",
       "    <tr>\n",
       "      <th>166</th>\n",
       "      <td>Mindanao – Western Mindanao Area</td>\n",
       "      <td>Brgy. Ubol, Simunul, Tawi-Tawi</td>\n",
       "      <td>SPUG Mindanao – West Simunul DPP | National Po...</td>\n",
       "      <td>4.923941244974538, 119.80298829991915</td>\n",
       "    </tr>\n",
       "    <tr>\n",
       "      <th>167</th>\n",
       "      <td>NaN</td>\n",
       "      <td>NaN</td>\n",
       "      <td>NaN</td>\n",
       "      <td>NaN</td>\n",
       "    </tr>\n",
       "  </tbody>\n",
       "</table>\n",
       "<p>168 rows × 4 columns</p>\n",
       "</div>"
      ],
      "text/plain": [
       "                           Unnamed: 0  \\\n",
       "0                  Luzon - Bicol Area   \n",
       "1                  Luzon - Bicol Area   \n",
       "2                  Luzon - Bicol Area   \n",
       "3                  Luzon - Bicol Area   \n",
       "4                  Luzon - Bicol Area   \n",
       "..                                ...   \n",
       "163  Mindanao – Western Mindanao Area   \n",
       "164  Mindanao – Western Mindanao Area   \n",
       "165  Mindanao – Western Mindanao Area   \n",
       "166  Mindanao – Western Mindanao Area   \n",
       "167                               NaN   \n",
       "\n",
       "                                              Location  \\\n",
       "0                Brgy. Atulayan, Sagñay, Camarines Sur   \n",
       "1                  Brgy. Sibacungan, Bato, Catanduanes   \n",
       "2                 Brgy. Iraya, Batan, Rapu-rapu, Albay   \n",
       "3    Brgy. Sitio, Sugod, Banocboc, Vinzons, Camarin...   \n",
       "4                       Chico Island, Cawayan, Masbate   \n",
       "..                                                 ...   \n",
       "163   Tapiantana Island, Lanawan, Tabuan-Lasa, Basilan   \n",
       "164  Brgy. Tigtabon, Tigtabon Island, Zamboanga Cit...   \n",
       "165  Brgy. Tumalutab, Tumalutab Island, Zamboanga C...   \n",
       "166                     Brgy. Ubol, Simunul, Tawi-Tawi   \n",
       "167                                                NaN   \n",
       "\n",
       "                                                  Link  \\\n",
       "0    SPUG Luzon – Sagñay DPP | National Power Corpo...   \n",
       "1    SPUG Luzon – Balongbong HPP | National Power C...   \n",
       "2    SPUG Luzon – Batan DPP | National Power Corpor...   \n",
       "3    SPUG Luzon – Calaguas DPP | National Power Cor...   \n",
       "4    SPUG Luzon – Chico DPP | National Power Corpor...   \n",
       "..                                                 ...   \n",
       "163  SPUG Mindanao – Tapiantana DPP | National Powe...   \n",
       "164  SPUG Mindanao – Tigtabon DPP | National Power ...   \n",
       "165  SPUG Mindanao – Tumalutab DPP | National Power...   \n",
       "166  SPUG Mindanao – West Simunul DPP | National Po...   \n",
       "167                                                NaN   \n",
       "\n",
       "                                Coordinates  \n",
       "0    13.585152106546404, 123.56559731921023  \n",
       "1     13.624475334780481, 124.2968002008004  \n",
       "2    13.230231392352515, 124.04346584944794  \n",
       "3    14.811206318030056, 124.23353822108753  \n",
       "4     11.91013566534593, 123.60870948174119  \n",
       "..                                      ...  \n",
       "163                                     NaN  \n",
       "164                                     NaN  \n",
       "165   6.985829848966435, 122.37124283441949  \n",
       "166   4.923941244974538, 119.80298829991915  \n",
       "167                                     NaN  \n",
       "\n",
       "[168 rows x 4 columns]"
      ]
     },
     "execution_count": 1,
     "metadata": {},
     "output_type": "execute_result"
    }
   ],
   "source": [
    "import pandas as pd\n",
    "\n",
    "spug_data = pd.read_csv('../01_processed_data/spug_areas.csv')\n",
    "spug_data"
   ]
  }
 ],
 "metadata": {
  "kernelspec": {
   "display_name": "capstone_venv",
   "language": "python",
   "name": "python3"
  },
  "language_info": {
   "codemirror_mode": {
    "name": "ipython",
    "version": 3
   },
   "file_extension": ".py",
   "mimetype": "text/x-python",
   "name": "python",
   "nbconvert_exporter": "python",
   "pygments_lexer": "ipython3",
   "version": "3.13.2"
  }
 },
 "nbformat": 4,
 "nbformat_minor": 5
}
