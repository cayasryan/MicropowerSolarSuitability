{
 "cells": [
  {
   "cell_type": "code",
   "execution_count": null,
   "id": "7cfb908b",
   "metadata": {},
   "outputs": [],
   "source": [
    "import osmnx as ox\n",
    "import geopandas as gpd\n",
    "import pandas as pd\n",
    "\n",
    "# Get residential land use areas\n",
    "res_areas = ox.features_from_place(\"Philippines\", tags={'landuse': 'residential'})\n",
    "\n",
    "# Get residential buildings\n",
    "res_buildings = ox.features_from_place(\"Philippines\", tags={'building': 'residential'})\n",
    "\n",
    "# Combine them into one GeoDataFrame\n",
    "residential = gpd.GeoDataFrame(\n",
    "    pd.concat([res_areas, res_buildings], ignore_index=True),\n",
    "    crs=res_areas.crs\n",
    ")"
   ]
  }
 ],
 "metadata": {
  "kernelspec": {
   "display_name": "capstone_venv",
   "language": "python",
   "name": "python3"
  },
  "language_info": {
   "name": "python",
   "version": "3.13.2"
  }
 },
 "nbformat": 4,
 "nbformat_minor": 5
}
