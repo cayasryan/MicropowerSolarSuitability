{
 "cells": [
  {
   "cell_type": "code",
   "execution_count": 1,
   "metadata": {},
   "outputs": [],
   "source": [
    "import ee\n",
    "import pandas as pd\n",
    "\n",
    "# Authenticate and initialize GEE\n",
    "ee.Initialize(project=\"micropower-app\")\n",
    "\n",
    "# Sample coordinates for debugging\n",
    "data = {\n",
    "    \"latitude\": [14.5995, 10.3157, 16.4023],  # Manila, Cebu, Baguio\n",
    "    \"longitude\": [120.9842, 123.8854, 120.5960]\n",
    "}\n",
    "df = pd.DataFrame(data)"
   ]
  },
  {
   "cell_type": "code",
   "execution_count": 3,
   "metadata": {},
   "outputs": [
    {
     "name": "stdout",
     "output_type": "stream",
     "text": [
      "Error fetching values for (10.3157, 123.8854): Element.get: Parameter 'object' is required and may not be null.\n"
     ]
    },
    {
     "data": {
      "text/html": [
       "<div>\n",
       "<style scoped>\n",
       "    .dataframe tbody tr th:only-of-type {\n",
       "        vertical-align: middle;\n",
       "    }\n",
       "\n",
       "    .dataframe tbody tr th {\n",
       "        vertical-align: top;\n",
       "    }\n",
       "\n",
       "    .dataframe thead th {\n",
       "        text-align: right;\n",
       "    }\n",
       "</style>\n",
       "<table border=\"1\" class=\"dataframe\">\n",
       "  <thead>\n",
       "    <tr style=\"text-align: right;\">\n",
       "      <th></th>\n",
       "      <th>latitude</th>\n",
       "      <th>longitude</th>\n",
       "      <th>Solar Radiation</th>\n",
       "      <th>Max Temp</th>\n",
       "      <th>Precipitation</th>\n",
       "    </tr>\n",
       "  </thead>\n",
       "  <tbody>\n",
       "    <tr>\n",
       "      <th>0</th>\n",
       "      <td>14.5995</td>\n",
       "      <td>120.9842</td>\n",
       "      <td>2498662.0</td>\n",
       "      <td>303.106339</td>\n",
       "      <td>0.000339</td>\n",
       "    </tr>\n",
       "    <tr>\n",
       "      <th>1</th>\n",
       "      <td>10.3157</td>\n",
       "      <td>123.8854</td>\n",
       "      <td>NaN</td>\n",
       "      <td>NaN</td>\n",
       "      <td>NaN</td>\n",
       "    </tr>\n",
       "    <tr>\n",
       "      <th>2</th>\n",
       "      <td>16.4023</td>\n",
       "      <td>120.5960</td>\n",
       "      <td>2712412.0</td>\n",
       "      <td>296.911545</td>\n",
       "      <td>0.000802</td>\n",
       "    </tr>\n",
       "  </tbody>\n",
       "</table>\n",
       "</div>"
      ],
      "text/plain": [
       "   latitude  longitude  Solar Radiation    Max Temp  Precipitation\n",
       "0   14.5995   120.9842        2498662.0  303.106339       0.000339\n",
       "1   10.3157   123.8854              NaN         NaN            NaN\n",
       "2   16.4023   120.5960        2712412.0  296.911545       0.000802"
      ]
     },
     "execution_count": 3,
     "metadata": {},
     "output_type": "execute_result"
    }
   ],
   "source": [
    "\n",
    "# Define datasets from ERA5\n",
    "solar_radiation = ee.ImageCollection(\"ECMWF/ERA5_LAND/DAILY_AGGR\").select(\"surface_solar_radiation_downwards_max\")\n",
    "surface_temp = ee.ImageCollection(\"ECMWF/ERA5_LAND/DAILY_AGGR\").select(\"temperature_2m_max\")\n",
    "precipitation = ee.ImageCollection(\"ECMWF/ERA5_LAND/DAILY_AGGR\").select(\"total_precipitation_sum\")\n",
    "\n",
    "# Get the most recent available image\n",
    "solar_latest = solar_radiation.sort(\"system:time_start\", False).first()\n",
    "temp_latest = surface_temp.sort(\"system:time_start\", False).first()\n",
    "precip_latest = precipitation.sort(\"system:time_start\", False).first()\n",
    "\n",
    "def extract_values(lat, lon):\n",
    "    \"\"\"Fetches feature values from GEE for a given coordinate.\"\"\"\n",
    "    point = ee.Geometry.Point(lon, lat)\n",
    "    \n",
    "    try:\n",
    "        solar_val = solar_latest.sample(region=point, scale=1000).first().get(\"surface_solar_radiation_downwards_max\").getInfo()\n",
    "        temp_val = temp_latest.sample(region=point, scale=1000).first().get(\"temperature_2m_max\").getInfo()\n",
    "        precip_val = precip_latest.sample(region=point, scale=1000).first().get(\"total_precipitation_sum\").getInfo()\n",
    "    except Exception as e:\n",
    "        print(f\"Error fetching values for ({lat}, {lon}): {e}\")\n",
    "        return None, None, None\n",
    "    \n",
    "    return solar_val, temp_val, precip_val\n",
    "\n",
    "# Apply function to DataFrame\n",
    "df[[\"Solar Radiation\", \"Max Temp\", \"Precipitation\"]] = df.apply(lambda row: extract_values(row[\"latitude\"], row[\"longitude\"]), axis=1, result_type=\"expand\")\n",
    "\n",
    "# Display DataFrame\n",
    "df\n"
   ]
  },
  {
   "cell_type": "code",
   "execution_count": null,
   "metadata": {},
   "outputs": [],
   "source": []
  }
 ],
 "metadata": {
  "kernelspec": {
   "display_name": "Python (capstone_venv)",
   "language": "python",
   "name": "capstone_venv"
  },
  "language_info": {
   "codemirror_mode": {
    "name": "ipython",
    "version": 3
   },
   "file_extension": ".py",
   "mimetype": "text/x-python",
   "name": "python",
   "nbconvert_exporter": "python",
   "pygments_lexer": "ipython3",
   "version": "3.11.2"
  }
 },
 "nbformat": 4,
 "nbformat_minor": 4
}
