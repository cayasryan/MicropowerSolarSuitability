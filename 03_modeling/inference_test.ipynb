{
 "cells": [
  {
   "cell_type": "code",
   "execution_count": null,
   "metadata": {},
   "outputs": [],
   "source": [
    "import dask_geopandas as dgpd\n",
    "\n",
    "gdf_protected = dgpd.read_parquet(\"data/protected_areas.parquet\").compute()\n",
    "gdf_landcover = dgpd.read_parquet(\"data/land_cover.parquet\").compute()"
   ]
  },
  {
   "cell_type": "code",
   "execution_count": 1,
   "metadata": {},
   "outputs": [],
   "source": [
    "import dask_geopandas as dgpd\n",
    "\n",
    "gdf_flood_5 = dgpd.read_parquet(\"../01_processed_data/flood_risk/FloodRisk_5yr.parquet\").compute()"
   ]
  },
  {
   "cell_type": "code",
   "execution_count": 5,
   "metadata": {},
   "outputs": [],
   "source": [
    "gdf_flood_25 = dgpd.read_parquet(\"../01_processed_data/flood_risk/FloodRisk_25yr.parquet\").compute()\n",
    "gdf_flood_100 = dgpd.read_parquet(\"../01_processed_data/flood_risk/FloodRisk_100yr.parquet\").compute()"
   ]
  },
  {
   "cell_type": "code",
   "execution_count": 4,
   "metadata": {},
   "outputs": [
    {
     "data": {
      "text/html": [
       "<div>\n",
       "<style scoped>\n",
       "    .dataframe tbody tr th:only-of-type {\n",
       "        vertical-align: middle;\n",
       "    }\n",
       "\n",
       "    .dataframe tbody tr th {\n",
       "        vertical-align: top;\n",
       "    }\n",
       "\n",
       "    .dataframe thead th {\n",
       "        text-align: right;\n",
       "    }\n",
       "</style>\n",
       "<table border=\"1\" class=\"dataframe\">\n",
       "  <thead>\n",
       "    <tr style=\"text-align: right;\">\n",
       "      <th></th>\n",
       "      <th>FloodRisk</th>\n",
       "      <th>geometry</th>\n",
       "      <th>Province</th>\n",
       "      <th>FloodReturnPeriod</th>\n",
       "    </tr>\n",
       "  </thead>\n",
       "  <tbody>\n",
       "    <tr>\n",
       "      <th>0</th>\n",
       "      <td>1.0</td>\n",
       "      <td>MULTIPOLYGON (((121.53323 17.26963, 121.5331 1...</td>\n",
       "      <td>Kalinga</td>\n",
       "      <td>5yr</td>\n",
       "    </tr>\n",
       "    <tr>\n",
       "      <th>1</th>\n",
       "      <td>2.0</td>\n",
       "      <td>MULTIPOLYGON (((121.5307 17.26934, 121.5307 17...</td>\n",
       "      <td>Kalinga</td>\n",
       "      <td>5yr</td>\n",
       "    </tr>\n",
       "    <tr>\n",
       "      <th>2</th>\n",
       "      <td>3.0</td>\n",
       "      <td>MULTIPOLYGON (((121.53295 17.2699, 121.53295 1...</td>\n",
       "      <td>Kalinga</td>\n",
       "      <td>5yr</td>\n",
       "    </tr>\n",
       "    <tr>\n",
       "      <th>3</th>\n",
       "      <td>1.0</td>\n",
       "      <td>MULTIPOLYGON (((122.03266 13.3509, 122.03257 1...</td>\n",
       "      <td>Marinduque</td>\n",
       "      <td>5yr</td>\n",
       "    </tr>\n",
       "    <tr>\n",
       "      <th>4</th>\n",
       "      <td>2.0</td>\n",
       "      <td>MULTIPOLYGON (((122.02979 13.35206, 122.0297 1...</td>\n",
       "      <td>Marinduque</td>\n",
       "      <td>5yr</td>\n",
       "    </tr>\n",
       "  </tbody>\n",
       "</table>\n",
       "</div>"
      ],
      "text/plain": [
       "   FloodRisk                                           geometry    Province  \\\n",
       "0        1.0  MULTIPOLYGON (((121.53323 17.26963, 121.5331 1...     Kalinga   \n",
       "1        2.0  MULTIPOLYGON (((121.5307 17.26934, 121.5307 17...     Kalinga   \n",
       "2        3.0  MULTIPOLYGON (((121.53295 17.2699, 121.53295 1...     Kalinga   \n",
       "3        1.0  MULTIPOLYGON (((122.03266 13.3509, 122.03257 1...  Marinduque   \n",
       "4        2.0  MULTIPOLYGON (((122.02979 13.35206, 122.0297 1...  Marinduque   \n",
       "\n",
       "  FloodReturnPeriod  \n",
       "0               5yr  \n",
       "1               5yr  \n",
       "2               5yr  \n",
       "3               5yr  \n",
       "4               5yr  "
      ]
     },
     "execution_count": 4,
     "metadata": {},
     "output_type": "execute_result"
    }
   ],
   "source": [
    "gdf_flood_5.head()"
   ]
  },
  {
   "cell_type": "code",
   "execution_count": null,
   "metadata": {},
   "outputs": [],
   "source": [
    "gdf_flood_5 = gdf_flood_5.to_crs(epsg=32651)\n",
    "gdf_flood_25 = gdf_flood_25.to_crs(epsg=32651)\n",
    "gdf_flood_100 = gdf_flood_100.to_crs(epsg=32651)"
   ]
  },
  {
   "cell_type": "code",
   "execution_count": 8,
   "metadata": {},
   "outputs": [],
   "source": [
    "gdf_flood_5.to_parquet(\"../01_processed_data/flood_risk/FloodRisk_5yr_reprojected.parquet\")\n",
    "gdf_flood_25.to_parquet(\"../01_processed_data/flood_risk/FloodRisk_25yr_reprojected.parquet\")\n",
    "gdf_flood_100.to_parquet(\"../01_processed_data/flood_risk/FloodRisk_100yr_reprojected.parquet\")"
   ]
  },
  {
   "cell_type": "code",
   "execution_count": 7,
   "metadata": {},
   "outputs": [],
   "source": [
    "gdf_protected = gdf_protected.to_crs(epsg=32651)\n",
    "gdf_landcover = gdf_landcover.to_crs(epsg=32651)\n",
    "\n",
    "# Save the reprojected data\n",
    "gdf_protected.to_parquet(\"data/protected_areas_reprojected.parquet\")\n",
    "gdf_landcover.to_parquet(\"data/land_cover_reprojected.parquet\")"
   ]
  },
  {
   "cell_type": "code",
   "execution_count": 8,
   "metadata": {},
   "outputs": [
    {
     "name": "stdout",
     "output_type": "stream",
     "text": [
      "{\"$schema\": \"https://proj.org/schemas/v0.7/projjson.schema.json\", \"type\": \"ProjectedCRS\", \"name\": \"WGS 84 / UTM zone 51N\", \"base_crs\": {\"type\": \"GeographicCRS\", \"name\": \"WGS 84\", \"datum\": {\"type\": \"GeodeticReferenceFrame\", \"name\": \"World Geodetic System 1984\", \"ellipsoid\": {\"name\": \"WGS 84\", \"semi_major_axis\": 6378137, \"inverse_flattening\": 298.257223563}}, \"coordinate_system\": {\"subtype\": \"ellipsoidal\", \"axis\": [{\"name\": \"Geodetic latitude\", \"abbreviation\": \"Lat\", \"direction\": \"north\", \"unit\": \"degree\"}, {\"name\": \"Geodetic longitude\", \"abbreviation\": \"Lon\", \"direction\": \"east\", \"unit\": \"degree\"}]}, \"id\": {\"authority\": \"EPSG\", \"code\": 4326}}, \"conversion\": {\"name\": \"UTM zone 51N\", \"method\": {\"name\": \"Transverse Mercator\", \"id\": {\"authority\": \"EPSG\", \"code\": 9807}}, \"parameters\": [{\"name\": \"Latitude of natural origin\", \"value\": 0, \"unit\": \"degree\", \"id\": {\"authority\": \"EPSG\", \"code\": 8801}}, {\"name\": \"Longitude of natural origin\", \"value\": 123, \"unit\": \"degree\", \"id\": {\"authority\": \"EPSG\", \"code\": 8802}}, {\"name\": \"Scale factor at natural origin\", \"value\": 0.9996, \"unit\": \"unity\", \"id\": {\"authority\": \"EPSG\", \"code\": 8805}}, {\"name\": \"False easting\", \"value\": 500000, \"unit\": \"metre\", \"id\": {\"authority\": \"EPSG\", \"code\": 8806}}, {\"name\": \"False northing\", \"value\": 0, \"unit\": \"metre\", \"id\": {\"authority\": \"EPSG\", \"code\": 8807}}]}, \"coordinate_system\": {\"subtype\": \"Cartesian\", \"axis\": [{\"name\": \"Easting\", \"abbreviation\": \"E\", \"direction\": \"east\", \"unit\": \"metre\"}, {\"name\": \"Northing\", \"abbreviation\": \"N\", \"direction\": \"north\", \"unit\": \"metre\"}]}, \"scope\": \"Navigation and medium accuracy spatial referencing.\", \"area\": \"Between 120\\u00b0E and 126\\u00b0E, northern hemisphere between equator and 84\\u00b0N, onshore and offshore. China. Indonesia. Japan. North Korea. Philippines. Russian Federation. South Korea. Taiwan.\", \"bbox\": {\"south_latitude\": 0, \"west_longitude\": 120, \"north_latitude\": 84, \"east_longitude\": 126}, \"id\": {\"authority\": \"EPSG\", \"code\": 32651}}\n",
      "{\"$schema\": \"https://proj.org/schemas/v0.7/projjson.schema.json\", \"type\": \"ProjectedCRS\", \"name\": \"WGS 84 / UTM zone 51N\", \"base_crs\": {\"type\": \"GeographicCRS\", \"name\": \"WGS 84\", \"datum\": {\"type\": \"GeodeticReferenceFrame\", \"name\": \"World Geodetic System 1984\", \"ellipsoid\": {\"name\": \"WGS 84\", \"semi_major_axis\": 6378137, \"inverse_flattening\": 298.257223563}}, \"coordinate_system\": {\"subtype\": \"ellipsoidal\", \"axis\": [{\"name\": \"Geodetic latitude\", \"abbreviation\": \"Lat\", \"direction\": \"north\", \"unit\": \"degree\"}, {\"name\": \"Geodetic longitude\", \"abbreviation\": \"Lon\", \"direction\": \"east\", \"unit\": \"degree\"}]}, \"id\": {\"authority\": \"EPSG\", \"code\": 4326}}, \"conversion\": {\"name\": \"UTM zone 51N\", \"method\": {\"name\": \"Transverse Mercator\", \"id\": {\"authority\": \"EPSG\", \"code\": 9807}}, \"parameters\": [{\"name\": \"Latitude of natural origin\", \"value\": 0, \"unit\": \"degree\", \"id\": {\"authority\": \"EPSG\", \"code\": 8801}}, {\"name\": \"Longitude of natural origin\", \"value\": 123, \"unit\": \"degree\", \"id\": {\"authority\": \"EPSG\", \"code\": 8802}}, {\"name\": \"Scale factor at natural origin\", \"value\": 0.9996, \"unit\": \"unity\", \"id\": {\"authority\": \"EPSG\", \"code\": 8805}}, {\"name\": \"False easting\", \"value\": 500000, \"unit\": \"metre\", \"id\": {\"authority\": \"EPSG\", \"code\": 8806}}, {\"name\": \"False northing\", \"value\": 0, \"unit\": \"metre\", \"id\": {\"authority\": \"EPSG\", \"code\": 8807}}]}, \"coordinate_system\": {\"subtype\": \"Cartesian\", \"axis\": [{\"name\": \"Easting\", \"abbreviation\": \"E\", \"direction\": \"east\", \"unit\": \"metre\"}, {\"name\": \"Northing\", \"abbreviation\": \"N\", \"direction\": \"north\", \"unit\": \"metre\"}]}, \"scope\": \"Navigation and medium accuracy spatial referencing.\", \"area\": \"Between 120\\u00b0E and 126\\u00b0E, northern hemisphere between equator and 84\\u00b0N, onshore and offshore. China. Indonesia. Japan. North Korea. Philippines. Russian Federation. South Korea. Taiwan.\", \"bbox\": {\"south_latitude\": 0, \"west_longitude\": 120, \"north_latitude\": 84, \"east_longitude\": 126}, \"id\": {\"authority\": \"EPSG\", \"code\": 32651}}\n"
     ]
    }
   ],
   "source": [
    "gdf_protected = dgpd.read_parquet(\"data/protected_areas_reprojected.parquet\").compute()\n",
    "gdf_landcover = dgpd.read_parquet(\"data/land_cover_reprojected.parquet\").compute()\n",
    "\n",
    "print(gdf_protected.crs)\n",
    "print(gdf_landcover.crs)"
   ]
  },
  {
   "cell_type": "code",
   "execution_count": 22,
   "metadata": {},
   "outputs": [
    {
     "data": {
      "application/vnd.microsoft.datawrangler.viewer.v0+json": {
       "columns": [
        {
         "name": "index",
         "rawType": "int64",
         "type": "integer"
        },
        {
         "name": "latitude",
         "rawType": "float64",
         "type": "float"
        },
        {
         "name": "longitude",
         "rawType": "float64",
         "type": "float"
        }
       ],
       "conversionMethod": "pd.DataFrame",
       "ref": "e1240f1e-7fca-4b71-816a-bf2d0aa4d5a6",
       "rows": [
        [
         "0",
         "13.4125",
         "122.5623"
        ],
        [
         "1",
         "10.7103",
         "122.5621"
        ],
        [
         "2",
         "16.4023",
         "120.596"
        ],
        [
         "3",
         "15.489",
         "120.9739"
        ],
        [
         "4",
         "14.5995",
         "120.9842"
        ],
        [
         "5",
         "8.051",
         "124.92"
        ],
        [
         "6",
         "6.9214",
         "122.079"
        ],
        [
         "7",
         "11.0046",
         "124.6093"
        ],
        [
         "8",
         "13.4125",
         "122.5644"
        ],
        [
         "9",
         "17.6133",
         "121.7269"
        ]
       ],
       "shape": {
        "columns": 2,
        "rows": 10
       }
      },
      "text/html": [
       "<div>\n",
       "<style scoped>\n",
       "    .dataframe tbody tr th:only-of-type {\n",
       "        vertical-align: middle;\n",
       "    }\n",
       "\n",
       "    .dataframe tbody tr th {\n",
       "        vertical-align: top;\n",
       "    }\n",
       "\n",
       "    .dataframe thead th {\n",
       "        text-align: right;\n",
       "    }\n",
       "</style>\n",
       "<table border=\"1\" class=\"dataframe\">\n",
       "  <thead>\n",
       "    <tr style=\"text-align: right;\">\n",
       "      <th></th>\n",
       "      <th>latitude</th>\n",
       "      <th>longitude</th>\n",
       "    </tr>\n",
       "  </thead>\n",
       "  <tbody>\n",
       "    <tr>\n",
       "      <th>0</th>\n",
       "      <td>13.4125</td>\n",
       "      <td>122.5623</td>\n",
       "    </tr>\n",
       "    <tr>\n",
       "      <th>1</th>\n",
       "      <td>10.7103</td>\n",
       "      <td>122.5621</td>\n",
       "    </tr>\n",
       "    <tr>\n",
       "      <th>2</th>\n",
       "      <td>16.4023</td>\n",
       "      <td>120.5960</td>\n",
       "    </tr>\n",
       "    <tr>\n",
       "      <th>3</th>\n",
       "      <td>15.4890</td>\n",
       "      <td>120.9739</td>\n",
       "    </tr>\n",
       "    <tr>\n",
       "      <th>4</th>\n",
       "      <td>14.5995</td>\n",
       "      <td>120.9842</td>\n",
       "    </tr>\n",
       "    <tr>\n",
       "      <th>5</th>\n",
       "      <td>8.0510</td>\n",
       "      <td>124.9200</td>\n",
       "    </tr>\n",
       "    <tr>\n",
       "      <th>6</th>\n",
       "      <td>6.9214</td>\n",
       "      <td>122.0790</td>\n",
       "    </tr>\n",
       "    <tr>\n",
       "      <th>7</th>\n",
       "      <td>11.0046</td>\n",
       "      <td>124.6093</td>\n",
       "    </tr>\n",
       "    <tr>\n",
       "      <th>8</th>\n",
       "      <td>13.4125</td>\n",
       "      <td>122.5644</td>\n",
       "    </tr>\n",
       "    <tr>\n",
       "      <th>9</th>\n",
       "      <td>17.6133</td>\n",
       "      <td>121.7269</td>\n",
       "    </tr>\n",
       "  </tbody>\n",
       "</table>\n",
       "</div>"
      ],
      "text/plain": [
       "   latitude  longitude\n",
       "0   13.4125   122.5623\n",
       "1   10.7103   122.5621\n",
       "2   16.4023   120.5960\n",
       "3   15.4890   120.9739\n",
       "4   14.5995   120.9842\n",
       "5    8.0510   124.9200\n",
       "6    6.9214   122.0790\n",
       "7   11.0046   124.6093\n",
       "8   13.4125   122.5644\n",
       "9   17.6133   121.7269"
      ]
     },
     "execution_count": 22,
     "metadata": {},
     "output_type": "execute_result"
    }
   ],
   "source": [
    "import pandas as pd\n",
    "df = pd.read_csv(\"data/sample_data.csv\")\n",
    "df"
   ]
  },
  {
   "cell_type": "code",
   "execution_count": 23,
   "metadata": {},
   "outputs": [
    {
     "name": "stdout",
     "output_type": "stream",
     "text": [
      "Converting DataFrame to GeoDataFrame...\n",
      "Checking if points are inside protected areas...\n",
      "Getting land cover type...\n"
     ]
    },
    {
     "data": {
      "text/plain": [
       "array([[0, 1, 0, 0, 0, 0],\n",
       "       [0, 0, 0, 1, 0, 0],\n",
       "       [0, 0, 0, 1, 0, 1],\n",
       "       [0, 0, 0, 1, 0, 0],\n",
       "       [0, 0, 0, 1, 0, 0],\n",
       "       [0, 0, 1, 0, 0, 0],\n",
       "       [0, 0, 0, 1, 0, 0],\n",
       "       [0, 0, 0, 1, 0, 0],\n",
       "       [0, 1, 0, 0, 0, 0],\n",
       "       [0, 0, 0, 1, 0, 0]])"
      ]
     },
     "execution_count": 23,
     "metadata": {},
     "output_type": "execute_result"
    }
   ],
   "source": [
    "from shapely.geometry import Point\n",
    "import geopandas as gpd\n",
    "\n",
    "# Convert DataFrame to GeoDataFrame\n",
    "print(\"Converting DataFrame to GeoDataFrame...\")\n",
    "geometry = [Point(xy) for xy in zip(df['longitude'], df['latitude'])]\n",
    "gdf_points = gpd.GeoDataFrame(df, geometry=geometry, crs=\"EPSG:4326\")\n",
    "gdf_points = gdf_points.to_crs(epsg=32651)\n",
    "\n",
    "# Check if points are inside protected areas\n",
    "print(\"Checking if points are inside protected areas...\")\n",
    "gdf_points[\"in_protected_area\"] = gdf_points.sjoin(gdf_protected, how=\"left\", predicate=\"intersects\")['index_right'].notnull()\n",
    "\n",
    "# Get land cover type (assuming land cover GeoDataFrame has a 'land_type' column)\n",
    "print(\"Getting land cover type...\")\n",
    "gdf_points = gdf_points.sjoin(gdf_landcover[['geometry', 'class_id']], how=\"left\", predicate=\"intersects\")\n",
    "\n",
    "# Drop unnecessary index_right column from spatial join\n",
    "gdf_points = gdf_points.drop(columns=['index_right'])\n",
    "\n",
    "# Define all possible land cover classes\n",
    "all_classes = [1, 2, 3, 4, 5]\n",
    "\n",
    "# Ensure all classes appear in one-hot encoding\n",
    "gdf_points['class_id'] = pd.Categorical(gdf_points['class_id'], categories=all_classes)\n",
    "df_encoded = pd.get_dummies(gdf_points[['class_id']], columns=['class_id'], prefix='landcover_class').astype(int)\n",
    "\n",
    "\n",
    "# Convert boolean 'in_predicted_area' to 1/0\n",
    "df_encoded['in_preotected_area'] = gdf_points['in_protected_area'].astype(int)\n",
    "\n",
    "df_encoded_array = df_encoded.to_numpy()\n",
    "\n",
    "# Display results\n",
    "df_encoded_array"
   ]
  },
  {
   "cell_type": "code",
   "execution_count": 24,
   "metadata": {},
   "outputs": [
    {
     "data": {
      "text/plain": [
       "AutoEncoder(\n",
       "  (encoder): Sequential(\n",
       "    (0): Linear(in_features=6, out_features=64, bias=True)\n",
       "    (1): ReLU()\n",
       "    (2): Linear(in_features=64, out_features=32, bias=True)\n",
       "    (3): ReLU()\n",
       "    (4): Linear(in_features=32, out_features=16, bias=True)\n",
       "  )\n",
       "  (decoder): Sequential(\n",
       "    (0): Linear(in_features=16, out_features=32, bias=True)\n",
       "    (1): ReLU()\n",
       "    (2): Linear(in_features=32, out_features=64, bias=True)\n",
       "    (3): ReLU()\n",
       "    (4): Linear(in_features=64, out_features=6, bias=True)\n",
       "    (5): Sigmoid()\n",
       "  )\n",
       ")"
      ]
     },
     "execution_count": 24,
     "metadata": {},
     "output_type": "execute_result"
    }
   ],
   "source": [
    "import json\n",
    "import torch\n",
    "import torch.nn as nn\n",
    "\n",
    "\n",
    "with open(\"model_params/autoencoder_params.json\", \"r\") as f:\n",
    "    loaded_params = json.load(f)\n",
    "\n",
    "num_features = loaded_params[\"num_features\"]\n",
    "threshold_autoencoder = loaded_params[\"threshold_autoencoder\"]\n",
    "\n",
    "class AutoEncoder(nn.Module):\n",
    "    def __init__(self, input_dim):\n",
    "        super(AutoEncoder, self).__init__()\n",
    "        self.encoder = nn.Sequential(\n",
    "            nn.Linear(input_dim, 64),\n",
    "            nn.ReLU(),\n",
    "            nn.Linear(64, 32),\n",
    "            nn.ReLU(),\n",
    "            nn.Linear(32, 16)\n",
    "        )\n",
    "        self.decoder = nn.Sequential(\n",
    "            nn.Linear(16, 32),\n",
    "            nn.ReLU(),\n",
    "            nn.Linear(32, 64),\n",
    "            nn.ReLU(),\n",
    "            nn.Linear(64, input_dim),\n",
    "            nn.Sigmoid()  # Use Sigmoid for reconstruction between [0, 1]\n",
    "        )\n",
    "\n",
    "    def forward(self, x):\n",
    "        encoded = self.encoder(x)\n",
    "        decoded = self.decoder(encoded)\n",
    "        return decoded\n",
    "\n",
    "# Instantiate the model again\n",
    "loaded_model = AutoEncoder(input_dim=num_features)\n",
    "\n",
    "# Load the trained weights\n",
    "loaded_model.load_state_dict(torch.load(\"model_weights/autoencoder_weights.pth\"))\n",
    "\n",
    "# Set the model to evaluation mode\n",
    "loaded_model.eval()\n"
   ]
  },
  {
   "cell_type": "code",
   "execution_count": 25,
   "metadata": {},
   "outputs": [],
   "source": [
    "import numpy as np\n",
    "\n",
    "df_encoded_tensor = torch.tensor(df_encoded_array, dtype=torch.float32)\n",
    "\n",
    "with torch.no_grad():\n",
    "    test_reconstruction = loaded_model(df_encoded_tensor).numpy()\n",
    "    test_reconstruction_error = np.mean(np.square(df_encoded_array - test_reconstruction), axis=1)\n",
    "    test_anomalies_autoencoder = np.where(test_reconstruction_error > threshold_autoencoder, 1, 0)"
   ]
  },
  {
   "cell_type": "code",
   "execution_count": 26,
   "metadata": {},
   "outputs": [
    {
     "data": {
      "application/vnd.microsoft.datawrangler.viewer.v0+json": {
       "columns": [
        {
         "name": "index",
         "rawType": "int64",
         "type": "integer"
        },
        {
         "name": "latitude",
         "rawType": "float64",
         "type": "float"
        },
        {
         "name": "longitude",
         "rawType": "float64",
         "type": "float"
        },
        {
         "name": "land_cover",
         "rawType": "category",
         "type": "unknown"
        },
        {
         "name": "in_preotected_area",
         "rawType": "bool",
         "type": "boolean"
        },
        {
         "name": "suitability",
         "rawType": "object",
         "type": "string"
        }
       ],
       "conversionMethod": "pd.DataFrame",
       "ref": "58ff4db6-4638-4fe5-aab2-38827e3edb11",
       "rows": [
        [
         "0",
         "13.4125",
         "122.5623",
         "Crop Areas",
         "False",
         "Suitable"
        ],
        [
         "1",
         "10.7103",
         "122.5621",
         "Built-up",
         "False",
         "Likely Unsuitable"
        ],
        [
         "2",
         "16.4023",
         "120.596",
         "Built-up",
         "True",
         "Likely Unsuitable"
        ],
        [
         "3",
         "15.489",
         "120.9739",
         "Built-up",
         "False",
         "Likely Unsuitable"
        ],
        [
         "4",
         "14.5995",
         "120.9842",
         "Built-up",
         "False",
         "Likely Unsuitable"
        ],
        [
         "5",
         "8.051",
         "124.92",
         "Barren/Flatland",
         "False",
         "Likely Unsuitable"
        ],
        [
         "6",
         "6.9214",
         "122.079",
         "Built-up",
         "False",
         "Likely Unsuitable"
        ],
        [
         "7",
         "11.0046",
         "124.6093",
         "Built-up",
         "False",
         "Likely Unsuitable"
        ],
        [
         "8",
         "13.4125",
         "122.5644",
         "Crop Areas",
         "False",
         "Suitable"
        ],
        [
         "9",
         "17.6133",
         "121.7269",
         "Built-up",
         "False",
         "Likely Unsuitable"
        ]
       ],
       "shape": {
        "columns": 5,
        "rows": 10
       }
      },
      "text/html": [
       "<div>\n",
       "<style scoped>\n",
       "    .dataframe tbody tr th:only-of-type {\n",
       "        vertical-align: middle;\n",
       "    }\n",
       "\n",
       "    .dataframe tbody tr th {\n",
       "        vertical-align: top;\n",
       "    }\n",
       "\n",
       "    .dataframe thead th {\n",
       "        text-align: right;\n",
       "    }\n",
       "</style>\n",
       "<table border=\"1\" class=\"dataframe\">\n",
       "  <thead>\n",
       "    <tr style=\"text-align: right;\">\n",
       "      <th></th>\n",
       "      <th>latitude</th>\n",
       "      <th>longitude</th>\n",
       "      <th>land_cover</th>\n",
       "      <th>in_preotected_area</th>\n",
       "      <th>suitability</th>\n",
       "    </tr>\n",
       "  </thead>\n",
       "  <tbody>\n",
       "    <tr>\n",
       "      <th>0</th>\n",
       "      <td>13.4125</td>\n",
       "      <td>122.5623</td>\n",
       "      <td>Crop Areas</td>\n",
       "      <td>False</td>\n",
       "      <td>Suitable</td>\n",
       "    </tr>\n",
       "    <tr>\n",
       "      <th>1</th>\n",
       "      <td>10.7103</td>\n",
       "      <td>122.5621</td>\n",
       "      <td>Built-up</td>\n",
       "      <td>False</td>\n",
       "      <td>Likely Unsuitable</td>\n",
       "    </tr>\n",
       "    <tr>\n",
       "      <th>2</th>\n",
       "      <td>16.4023</td>\n",
       "      <td>120.5960</td>\n",
       "      <td>Built-up</td>\n",
       "      <td>True</td>\n",
       "      <td>Likely Unsuitable</td>\n",
       "    </tr>\n",
       "    <tr>\n",
       "      <th>3</th>\n",
       "      <td>15.4890</td>\n",
       "      <td>120.9739</td>\n",
       "      <td>Built-up</td>\n",
       "      <td>False</td>\n",
       "      <td>Likely Unsuitable</td>\n",
       "    </tr>\n",
       "    <tr>\n",
       "      <th>4</th>\n",
       "      <td>14.5995</td>\n",
       "      <td>120.9842</td>\n",
       "      <td>Built-up</td>\n",
       "      <td>False</td>\n",
       "      <td>Likely Unsuitable</td>\n",
       "    </tr>\n",
       "    <tr>\n",
       "      <th>5</th>\n",
       "      <td>8.0510</td>\n",
       "      <td>124.9200</td>\n",
       "      <td>Barren/Flatland</td>\n",
       "      <td>False</td>\n",
       "      <td>Likely Unsuitable</td>\n",
       "    </tr>\n",
       "    <tr>\n",
       "      <th>6</th>\n",
       "      <td>6.9214</td>\n",
       "      <td>122.0790</td>\n",
       "      <td>Built-up</td>\n",
       "      <td>False</td>\n",
       "      <td>Likely Unsuitable</td>\n",
       "    </tr>\n",
       "    <tr>\n",
       "      <th>7</th>\n",
       "      <td>11.0046</td>\n",
       "      <td>124.6093</td>\n",
       "      <td>Built-up</td>\n",
       "      <td>False</td>\n",
       "      <td>Likely Unsuitable</td>\n",
       "    </tr>\n",
       "    <tr>\n",
       "      <th>8</th>\n",
       "      <td>13.4125</td>\n",
       "      <td>122.5644</td>\n",
       "      <td>Crop Areas</td>\n",
       "      <td>False</td>\n",
       "      <td>Suitable</td>\n",
       "    </tr>\n",
       "    <tr>\n",
       "      <th>9</th>\n",
       "      <td>17.6133</td>\n",
       "      <td>121.7269</td>\n",
       "      <td>Built-up</td>\n",
       "      <td>False</td>\n",
       "      <td>Likely Unsuitable</td>\n",
       "    </tr>\n",
       "  </tbody>\n",
       "</table>\n",
       "</div>"
      ],
      "text/plain": [
       "   latitude  longitude       land_cover  in_preotected_area        suitability\n",
       "0   13.4125   122.5623       Crop Areas               False           Suitable\n",
       "1   10.7103   122.5621         Built-up               False  Likely Unsuitable\n",
       "2   16.4023   120.5960         Built-up                True  Likely Unsuitable\n",
       "3   15.4890   120.9739         Built-up               False  Likely Unsuitable\n",
       "4   14.5995   120.9842         Built-up               False  Likely Unsuitable\n",
       "5    8.0510   124.9200  Barren/Flatland               False  Likely Unsuitable\n",
       "6    6.9214   122.0790         Built-up               False  Likely Unsuitable\n",
       "7   11.0046   124.6093         Built-up               False  Likely Unsuitable\n",
       "8   13.4125   122.5644       Crop Areas               False           Suitable\n",
       "9   17.6133   121.7269         Built-up               False  Likely Unsuitable"
      ]
     },
     "execution_count": 26,
     "metadata": {},
     "output_type": "execute_result"
    }
   ],
   "source": [
    "# Mapping dictionary\n",
    "land_cover_mapping = {\n",
    "    1: \"Terrestrial Forest\",\n",
    "    2: \"Crop Areas\",\n",
    "    3: \"Barren/Flatland\",\n",
    "    4: \"Built-up\",\n",
    "    5: \"Wetlands & Water Bodies\"\n",
    "}\n",
    "\n",
    "# Map class_id to land cover names\n",
    "df['land_cover'] = gdf_points['class_id'].map(land_cover_mapping)\n",
    "\n",
    "# Convert 'in_predicted_area' to 1/0\n",
    "df['in_preotected_area'] = gdf_points['in_protected_area']\n",
    "\n",
    "df['suitability'] = np.where(test_anomalies_autoencoder == 1, \"Likely Unsuitable\", \"Suitable\")\n",
    "df"
   ]
  },
  {
   "cell_type": "code",
   "execution_count": 3,
   "metadata": {},
   "outputs": [
    {
     "data": {
      "text/html": [
       "<p>To authorize access needed by Earth Engine, open the following\n",
       "        URL in a web browser and follow the instructions:</p>\n",
       "        <p><a href=https://code.earthengine.google.com/client-auth?scopes=https%3A//www.googleapis.com/auth/earthengine%20https%3A//www.googleapis.com/auth/cloud-platform%20https%3A//www.googleapis.com/auth/devstorage.full_control&request_id=jxgGEQNLKqmS0rc3dezO2t8GSpReOd8f55eXO3rjQYI&tc=E7v2hTP0aTGJTP4DuYPJZcz9Xpx0oEzO3T6oY6z1f0M&cc=6gkRTU-1lFvmuODJj1fpkRKBCSM3WiEHXdQSg2WI9c8>https://code.earthengine.google.com/client-auth?scopes=https%3A//www.googleapis.com/auth/earthengine%20https%3A//www.googleapis.com/auth/cloud-platform%20https%3A//www.googleapis.com/auth/devstorage.full_control&request_id=jxgGEQNLKqmS0rc3dezO2t8GSpReOd8f55eXO3rjQYI&tc=E7v2hTP0aTGJTP4DuYPJZcz9Xpx0oEzO3T6oY6z1f0M&cc=6gkRTU-1lFvmuODJj1fpkRKBCSM3WiEHXdQSg2WI9c8</a></p>\n",
       "        <p>The authorization workflow will generate a code, which you should paste in the box below.</p>\n",
       "        "
      ],
      "text/plain": [
       "<IPython.core.display.HTML object>"
      ]
     },
     "metadata": {},
     "output_type": "display_data"
    },
    {
     "name": "stdout",
     "output_type": "stream",
     "text": [
      "\n",
      "Successfully saved authorization token.\n"
     ]
    }
   ],
   "source": [
    "import ee\n",
    "# auth_code = input(\"Paste your authentication code here: \")\n",
    "ee.Authenticate()"
   ]
  },
  {
   "cell_type": "code",
   "execution_count": 4,
   "metadata": {},
   "outputs": [
    {
     "name": "stdout",
     "output_type": "stream",
     "text": [
      "\n",
      "Collecting usage statistics. To deactivate, set browser.gatherUsageStats to false.\n",
      "\u001b[0m\n",
      "\u001b[0m\n",
      "\u001b[34m\u001b[1m  You can now view your Streamlit app in your browser.\u001b[0m\n",
      "\u001b[0m\n",
      "\u001b[34m  Local URL: \u001b[0m\u001b[1mhttp://localhost:8501\u001b[0m\n",
      "\u001b[34m  Network URL: \u001b[0m\u001b[1mhttp://202.92.159.241:8501\u001b[0m\n",
      "\u001b[34m  External URL: \u001b[0m\u001b[1mhttp://202.92.159.241:8501\u001b[0m\n",
      "\u001b[0m\n",
      "/raid/students/ryan/MicropowerSolarSuitability/04_app/app_v2.py:13: DeprecationWarning: Parsing dates involving a day of month without a year specified is ambiguious\n",
      "and fails to parse leap day. The default behavior will change in Python 3.15\n",
      "to either always raise an exception or to use a different default year (TBD).\n",
      "To avoid trouble, add a specific year to the input & format.\n",
      "See https://github.com/python/cpython/issues/70647.\n",
      "  import geemap.foliumap as geemap\n",
      "2025-04-21 11:42:46.068 Examining the path of torch.classes raised:\n",
      "Traceback (most recent call last):\n",
      "  File \"/data/students/ryan/anaconda3/envs/streamlit-env/lib/python3.13/site-packages/streamlit/web/bootstrap.py\", line 347, in run\n",
      "    if asyncio.get_running_loop().is_running():\n",
      "       ~~~~~~~~~~~~~~~~~~~~~~~~^^\n",
      "RuntimeError: no running event loop\n",
      "\n",
      "During handling of the above exception, another exception occurred:\n",
      "\n",
      "Traceback (most recent call last):\n",
      "  File \"/data/students/ryan/anaconda3/envs/streamlit-env/lib/python3.13/site-packages/streamlit/watcher/local_sources_watcher.py\", line 217, in get_module_paths\n",
      "    potential_paths = extract_paths(module)\n",
      "  File \"/data/students/ryan/anaconda3/envs/streamlit-env/lib/python3.13/site-packages/streamlit/watcher/local_sources_watcher.py\", line 210, in <lambda>\n",
      "    lambda m: list(m.__path__._path),\n",
      "                   ^^^^^^^^^^^^^^^^\n",
      "  File \"/data/students/ryan/anaconda3/envs/streamlit-env/lib/python3.13/site-packages/torch/_classes.py\", line 13, in __getattr__\n",
      "    proxy = torch._C._get_custom_class_python_wrapper(self.name, attr)\n",
      "RuntimeError: Tried to instantiate class '__path__._path', but it does not exist! Ensure that it is registered via torch::class_\n",
      "Converting DataFrame to GeoDataFrame...\n",
      "Checking if points are inside protected areas...\n",
      "Getting land cover type...\n",
      "Getting flood risk...\n",
      "2025-04-21 11:46:54.337 Examining the path of torch.classes raised:\n",
      "Traceback (most recent call last):\n",
      "  File \"/data/students/ryan/anaconda3/envs/streamlit-env/lib/python3.13/site-packages/streamlit/web/bootstrap.py\", line 347, in run\n",
      "    if asyncio.get_running_loop().is_running():\n",
      "       ~~~~~~~~~~~~~~~~~~~~~~~~^^\n",
      "RuntimeError: no running event loop\n",
      "\n",
      "During handling of the above exception, another exception occurred:\n",
      "\n",
      "Traceback (most recent call last):\n",
      "  File \"/data/students/ryan/anaconda3/envs/streamlit-env/lib/python3.13/site-packages/streamlit/watcher/local_sources_watcher.py\", line 217, in get_module_paths\n",
      "    potential_paths = extract_paths(module)\n",
      "  File \"/data/students/ryan/anaconda3/envs/streamlit-env/lib/python3.13/site-packages/streamlit/watcher/local_sources_watcher.py\", line 210, in <lambda>\n",
      "    lambda m: list(m.__path__._path),\n",
      "                   ^^^^^^^^^^^^^^^^\n",
      "  File \"/data/students/ryan/anaconda3/envs/streamlit-env/lib/python3.13/site-packages/torch/_classes.py\", line 13, in __getattr__\n",
      "    proxy = torch._C._get_custom_class_python_wrapper(self.name, attr)\n",
      "RuntimeError: Tried to instantiate class '__path__._path', but it does not exist! Ensure that it is registered via torch::class_\n",
      "\u001b[34m  Stopping...\u001b[0m\n",
      "^C\n"
     ]
    }
   ],
   "source": [
    "!streamlit run ../04_app/app_v2.py"
   ]
  },
  {
   "cell_type": "markdown",
   "metadata": {},
   "source": [
    "## Test GEE Querying"
   ]
  },
  {
   "cell_type": "code",
   "execution_count": 10,
   "metadata": {},
   "outputs": [
    {
     "data": {
      "application/vnd.microsoft.datawrangler.viewer.v0+json": {
       "columns": [
        {
         "name": "index",
         "rawType": "int64",
         "type": "integer"
        },
        {
         "name": "latitude",
         "rawType": "float64",
         "type": "float"
        },
        {
         "name": "longitude",
         "rawType": "float64",
         "type": "float"
        }
       ],
       "conversionMethod": "pd.DataFrame",
       "ref": "62dae86c-0077-4c44-a213-42718ebca12c",
       "rows": [
        [
         "0",
         "13.4125",
         "122.5623"
        ],
        [
         "1",
         "10.7103",
         "122.5621"
        ],
        [
         "2",
         "16.4023",
         "120.596"
        ],
        [
         "3",
         "15.489",
         "120.9739"
        ],
        [
         "4",
         "14.5995",
         "120.9842"
        ],
        [
         "5",
         "8.051",
         "124.92"
        ],
        [
         "6",
         "6.9214",
         "122.079"
        ],
        [
         "7",
         "11.0046",
         "124.6093"
        ],
        [
         "8",
         "13.54",
         "122.5623"
        ],
        [
         "9",
         "17.6133",
         "121.7269"
        ]
       ],
       "shape": {
        "columns": 2,
        "rows": 10
       }
      },
      "text/html": [
       "<div>\n",
       "<style scoped>\n",
       "    .dataframe tbody tr th:only-of-type {\n",
       "        vertical-align: middle;\n",
       "    }\n",
       "\n",
       "    .dataframe tbody tr th {\n",
       "        vertical-align: top;\n",
       "    }\n",
       "\n",
       "    .dataframe thead th {\n",
       "        text-align: right;\n",
       "    }\n",
       "</style>\n",
       "<table border=\"1\" class=\"dataframe\">\n",
       "  <thead>\n",
       "    <tr style=\"text-align: right;\">\n",
       "      <th></th>\n",
       "      <th>latitude</th>\n",
       "      <th>longitude</th>\n",
       "    </tr>\n",
       "  </thead>\n",
       "  <tbody>\n",
       "    <tr>\n",
       "      <th>0</th>\n",
       "      <td>13.4125</td>\n",
       "      <td>122.5623</td>\n",
       "    </tr>\n",
       "    <tr>\n",
       "      <th>1</th>\n",
       "      <td>10.7103</td>\n",
       "      <td>122.5621</td>\n",
       "    </tr>\n",
       "    <tr>\n",
       "      <th>2</th>\n",
       "      <td>16.4023</td>\n",
       "      <td>120.5960</td>\n",
       "    </tr>\n",
       "    <tr>\n",
       "      <th>3</th>\n",
       "      <td>15.4890</td>\n",
       "      <td>120.9739</td>\n",
       "    </tr>\n",
       "    <tr>\n",
       "      <th>4</th>\n",
       "      <td>14.5995</td>\n",
       "      <td>120.9842</td>\n",
       "    </tr>\n",
       "    <tr>\n",
       "      <th>5</th>\n",
       "      <td>8.0510</td>\n",
       "      <td>124.9200</td>\n",
       "    </tr>\n",
       "    <tr>\n",
       "      <th>6</th>\n",
       "      <td>6.9214</td>\n",
       "      <td>122.0790</td>\n",
       "    </tr>\n",
       "    <tr>\n",
       "      <th>7</th>\n",
       "      <td>11.0046</td>\n",
       "      <td>124.6093</td>\n",
       "    </tr>\n",
       "    <tr>\n",
       "      <th>8</th>\n",
       "      <td>13.5400</td>\n",
       "      <td>122.5623</td>\n",
       "    </tr>\n",
       "    <tr>\n",
       "      <th>9</th>\n",
       "      <td>17.6133</td>\n",
       "      <td>121.7269</td>\n",
       "    </tr>\n",
       "  </tbody>\n",
       "</table>\n",
       "</div>"
      ],
      "text/plain": [
       "   latitude  longitude\n",
       "0   13.4125   122.5623\n",
       "1   10.7103   122.5621\n",
       "2   16.4023   120.5960\n",
       "3   15.4890   120.9739\n",
       "4   14.5995   120.9842\n",
       "5    8.0510   124.9200\n",
       "6    6.9214   122.0790\n",
       "7   11.0046   124.6093\n",
       "8   13.5400   122.5623\n",
       "9   17.6133   121.7269"
      ]
     },
     "execution_count": 10,
     "metadata": {},
     "output_type": "execute_result"
    }
   ],
   "source": [
    "import pandas as pd\n",
    "\n",
    "coords = [\n",
    "    (13.4125, 122.5623),\n",
    "    (10.7103, 122.5621),\n",
    "    (16.4023, 120.596),\n",
    "    (15.489, 120.9739),\n",
    "    (14.5995, 120.9842),\n",
    "    (8.051, 124.92),\n",
    "    (6.9214, 122.079),\n",
    "    (11.0046, 124.6093),\n",
    "    (13.54, 122.5623),\n",
    "    (17.6133, 121.7269),\n",
    "]\n",
    "\n",
    "df = pd.DataFrame(coords, columns=[\"latitude\", \"longitude\"])\n",
    "df"
   ]
  },
  {
   "cell_type": "code",
   "execution_count": 6,
   "metadata": {},
   "outputs": [],
   "source": [
    "import ee\n",
    "ee.Initialize()\n",
    "\n",
    "# Land Cover (ESA WorldCover 2020)\n",
    "land_cover = ee.ImageCollection(\"ESA/WorldCover/v200\").first()\n",
    "\n",
    "# Monthly means from ERA5-Land\n",
    "solar = ee.ImageCollection(\"ECMWF/ERA5_LAND/MONTHLY_AGGR\").select(\"surface_solar_radiation_downwards_sum\").mean()\n",
    "temp = ee.ImageCollection(\"ECMWF/ERA5_LAND/MONTHLY_AGGR\").select(\"temperature_2m\").mean()\n",
    "precip = ee.ImageCollection(\"ECMWF/ERA5_LAND/MONTHLY_AGGR\").select(\"total_precipitation_sum\").mean()\n"
   ]
  },
  {
   "cell_type": "code",
   "execution_count": 12,
   "metadata": {},
   "outputs": [
    {
     "data": {
      "text/plain": [
       "<ee.featurecollection.FeatureCollection at 0x7f3b18762190>"
      ]
     },
     "execution_count": 12,
     "metadata": {},
     "output_type": "execute_result"
    }
   ],
   "source": [
    "def df_to_fc(df):\n",
    "    features = [\n",
    "        ee.Feature(ee.Geometry.Point(row['longitude'], row['latitude']), {'id': idx})\n",
    "        for idx, row in df.iterrows()\n",
    "    ]\n",
    "    return ee.FeatureCollection(features)\n",
    "\n",
    "fc_points = df_to_fc(df)\n",
    "fc_points"
   ]
  },
  {
   "cell_type": "code",
   "execution_count": 16,
   "metadata": {},
   "outputs": [
    {
     "data": {
      "application/vnd.microsoft.datawrangler.viewer.v0+json": {
       "columns": [
        {
         "name": "index",
         "rawType": "int64",
         "type": "integer"
        },
        {
         "name": "latitude",
         "rawType": "float64",
         "type": "float"
        },
        {
         "name": "longitude",
         "rawType": "float64",
         "type": "float"
        },
        {
         "name": "Monthly Surface Solar Radiation (J/m²)",
         "rawType": "float64",
         "type": "float"
        },
        {
         "name": "Mean 2m Temperature (K)",
         "rawType": "float64",
         "type": "float"
        },
        {
         "name": "Mean Monthly Precipitation (m)",
         "rawType": "float64",
         "type": "float"
        },
        {
         "name": "Land Cover",
         "rawType": "object",
         "type": "string"
        }
       ],
       "conversionMethod": "pd.DataFrame",
       "ref": "a42768d9-7de2-43cd-b3c6-84fe94b46797",
       "rows": [
        [
         "0",
         "13.4125",
         "122.5623",
         "568966229.708013",
         "299.34921163477094",
         "0.1471547147312785",
         "Tree Cover"
        ],
        [
         "1",
         "10.7103",
         "122.5621",
         "539368739.3709842",
         "299.4593565263522",
         "0.13573727302517352",
         "Built-up"
        ],
        [
         "2",
         "16.4023",
         "120.596",
         "557897786.4308511",
         "293.572878383696",
         "0.2856698625805685",
         "Built-up"
        ],
        [
         "3",
         "15.489",
         "120.9739",
         "557576718.1847315",
         "299.2344801156846",
         "0.1721301737297182",
         "Built-up"
        ],
        [
         "4",
         "14.5995",
         "120.9842",
         "541335641.0871705",
         "299.70275221525776",
         "0.15315288825749204",
         "Built-up"
        ],
        [
         "5",
         "8.051",
         "124.92",
         "548623919.730186",
         "290.6731185230538",
         "0.2325510847206702",
         "Cropland"
        ],
        [
         "6",
         "6.9214",
         "122.079",
         "611615359.1315163",
         "299.643473498999",
         "0.1673441439330095",
         "Built-up"
        ],
        [
         "7",
         "11.0046",
         "124.6093",
         "605709997.4663279",
         "299.08745266394425",
         "0.18651773386661522",
         "Built-up"
        ],
        [
         "8",
         "13.54",
         "122.5623",
         "557768575.7634454",
         "299.4670858670716",
         "0.14530978839257785",
         "Tree Cover"
        ],
        [
         "9",
         "17.6133",
         "121.7269",
         "514433615.17807955",
         "298.2713825325481",
         "0.18731689077374336",
         "Built-up"
        ]
       ],
       "shape": {
        "columns": 6,
        "rows": 10
       }
      },
      "text/html": [
       "<div>\n",
       "<style scoped>\n",
       "    .dataframe tbody tr th:only-of-type {\n",
       "        vertical-align: middle;\n",
       "    }\n",
       "\n",
       "    .dataframe tbody tr th {\n",
       "        vertical-align: top;\n",
       "    }\n",
       "\n",
       "    .dataframe thead th {\n",
       "        text-align: right;\n",
       "    }\n",
       "</style>\n",
       "<table border=\"1\" class=\"dataframe\">\n",
       "  <thead>\n",
       "    <tr style=\"text-align: right;\">\n",
       "      <th></th>\n",
       "      <th>latitude</th>\n",
       "      <th>longitude</th>\n",
       "      <th>Monthly Surface Solar Radiation (J/m²)</th>\n",
       "      <th>Mean 2m Temperature (K)</th>\n",
       "      <th>Mean Monthly Precipitation (m)</th>\n",
       "      <th>Land Cover</th>\n",
       "    </tr>\n",
       "  </thead>\n",
       "  <tbody>\n",
       "    <tr>\n",
       "      <th>0</th>\n",
       "      <td>13.4125</td>\n",
       "      <td>122.5623</td>\n",
       "      <td>5.689662e+08</td>\n",
       "      <td>299.349212</td>\n",
       "      <td>0.147155</td>\n",
       "      <td>Tree Cover</td>\n",
       "    </tr>\n",
       "    <tr>\n",
       "      <th>1</th>\n",
       "      <td>10.7103</td>\n",
       "      <td>122.5621</td>\n",
       "      <td>5.393687e+08</td>\n",
       "      <td>299.459357</td>\n",
       "      <td>0.135737</td>\n",
       "      <td>Built-up</td>\n",
       "    </tr>\n",
       "    <tr>\n",
       "      <th>2</th>\n",
       "      <td>16.4023</td>\n",
       "      <td>120.5960</td>\n",
       "      <td>5.578978e+08</td>\n",
       "      <td>293.572878</td>\n",
       "      <td>0.285670</td>\n",
       "      <td>Built-up</td>\n",
       "    </tr>\n",
       "    <tr>\n",
       "      <th>3</th>\n",
       "      <td>15.4890</td>\n",
       "      <td>120.9739</td>\n",
       "      <td>5.575767e+08</td>\n",
       "      <td>299.234480</td>\n",
       "      <td>0.172130</td>\n",
       "      <td>Built-up</td>\n",
       "    </tr>\n",
       "    <tr>\n",
       "      <th>4</th>\n",
       "      <td>14.5995</td>\n",
       "      <td>120.9842</td>\n",
       "      <td>5.413356e+08</td>\n",
       "      <td>299.702752</td>\n",
       "      <td>0.153153</td>\n",
       "      <td>Built-up</td>\n",
       "    </tr>\n",
       "    <tr>\n",
       "      <th>5</th>\n",
       "      <td>8.0510</td>\n",
       "      <td>124.9200</td>\n",
       "      <td>5.486239e+08</td>\n",
       "      <td>290.673119</td>\n",
       "      <td>0.232551</td>\n",
       "      <td>Cropland</td>\n",
       "    </tr>\n",
       "    <tr>\n",
       "      <th>6</th>\n",
       "      <td>6.9214</td>\n",
       "      <td>122.0790</td>\n",
       "      <td>6.116154e+08</td>\n",
       "      <td>299.643473</td>\n",
       "      <td>0.167344</td>\n",
       "      <td>Built-up</td>\n",
       "    </tr>\n",
       "    <tr>\n",
       "      <th>7</th>\n",
       "      <td>11.0046</td>\n",
       "      <td>124.6093</td>\n",
       "      <td>6.057100e+08</td>\n",
       "      <td>299.087453</td>\n",
       "      <td>0.186518</td>\n",
       "      <td>Built-up</td>\n",
       "    </tr>\n",
       "    <tr>\n",
       "      <th>8</th>\n",
       "      <td>13.5400</td>\n",
       "      <td>122.5623</td>\n",
       "      <td>5.577686e+08</td>\n",
       "      <td>299.467086</td>\n",
       "      <td>0.145310</td>\n",
       "      <td>Tree Cover</td>\n",
       "    </tr>\n",
       "    <tr>\n",
       "      <th>9</th>\n",
       "      <td>17.6133</td>\n",
       "      <td>121.7269</td>\n",
       "      <td>5.144336e+08</td>\n",
       "      <td>298.271383</td>\n",
       "      <td>0.187317</td>\n",
       "      <td>Built-up</td>\n",
       "    </tr>\n",
       "  </tbody>\n",
       "</table>\n",
       "</div>"
      ],
      "text/plain": [
       "   latitude  longitude  Monthly Surface Solar Radiation (J/m²)  \\\n",
       "0   13.4125   122.5623                            5.689662e+08   \n",
       "1   10.7103   122.5621                            5.393687e+08   \n",
       "2   16.4023   120.5960                            5.578978e+08   \n",
       "3   15.4890   120.9739                            5.575767e+08   \n",
       "4   14.5995   120.9842                            5.413356e+08   \n",
       "5    8.0510   124.9200                            5.486239e+08   \n",
       "6    6.9214   122.0790                            6.116154e+08   \n",
       "7   11.0046   124.6093                            6.057100e+08   \n",
       "8   13.5400   122.5623                            5.577686e+08   \n",
       "9   17.6133   121.7269                            5.144336e+08   \n",
       "\n",
       "   Mean 2m Temperature (K)  Mean Monthly Precipitation (m)  Land Cover  \n",
       "0               299.349212                        0.147155  Tree Cover  \n",
       "1               299.459357                        0.135737    Built-up  \n",
       "2               293.572878                        0.285670    Built-up  \n",
       "3               299.234480                        0.172130    Built-up  \n",
       "4               299.702752                        0.153153    Built-up  \n",
       "5               290.673119                        0.232551    Cropland  \n",
       "6               299.643473                        0.167344    Built-up  \n",
       "7               299.087453                        0.186518    Built-up  \n",
       "8               299.467086                        0.145310  Tree Cover  \n",
       "9               298.271383                        0.187317    Built-up  "
      ]
     },
     "execution_count": 16,
     "metadata": {},
     "output_type": "execute_result"
    }
   ],
   "source": [
    "sampled = land_cover \\\n",
    "    .addBands(solar.rename(\"solar\")) \\\n",
    "    .addBands(temp.rename(\"temp\")) \\\n",
    "    .addBands(precip.rename(\"precip\")) \\\n",
    "    .sampleRegions(collection=fc_points, scale=10, geometries=True)\n",
    "\n",
    "results = sampled.getInfo()\n",
    "\n",
    "extracted = []\n",
    "for f in results['features']:\n",
    "    props = f['properties']\n",
    "    extracted.append({\n",
    "        'id': props['id'],\n",
    "        'land_cover': props.get('Map'),  # land cover code\n",
    "        'Monthly Surface Solar Radiation (J/m²)': props.get('solar'), # Monthly Surface Solar Radiation (J/m²)\n",
    "        'Mean 2m Temperature (K)': props.get('temp'), # Mean 2m Temperature (K)\n",
    "        'Mean Monthly Precipitation (m)': props.get('precip'), # Mean Monthly Precipitation (m)\n",
    "    })\n",
    "\n",
    "df['id'] = df.index\n",
    "extracted = pd.DataFrame(extracted)\n",
    "\n",
    "# Merge the extracted data with the original DataFrame\n",
    "df_results = pd.merge(df, extracted, on='id', how='left')\n",
    "# Drop the 'id' column\n",
    "df_results = df_results.drop(columns=['id'])\n",
    "\n",
    "# Decoding land cover codes\n",
    "land_labels = {\n",
    "    10: \"Tree Cover\", 20: \"Shrubland\", 30: \"Grassland\", 40: \"Cropland\",\n",
    "    50: \"Built-up\", 60: \"Bare/Sparse Veg\", 70: \"Snow/Ice\", 80: \"Water\",\n",
    "    90: \"Wetlands\", 95: \"Mangroves\", 100: \"Moss & Lichen\"\n",
    "}\n",
    "\n",
    "df_results['Land Cover'] = df_results['land_cover'].map(land_labels)\n",
    "# drop land cover code\n",
    "df_results = df_results.drop(columns=['land_cover'])\n",
    "df_results"
   ]
  }
 ],
 "metadata": {
  "kernelspec": {
   "display_name": "streamlit-env",
   "language": "python",
   "name": "python3"
  },
  "language_info": {
   "codemirror_mode": {
    "name": "ipython",
    "version": 3
   },
   "file_extension": ".py",
   "mimetype": "text/x-python",
   "name": "python",
   "nbconvert_exporter": "python",
   "pygments_lexer": "ipython3",
   "version": "3.13.2"
  }
 },
 "nbformat": 4,
 "nbformat_minor": 2
}
